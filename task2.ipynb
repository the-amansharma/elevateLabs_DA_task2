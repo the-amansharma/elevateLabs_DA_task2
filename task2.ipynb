{
 "cells": [
  {
   "cell_type": "code",
   "execution_count": 1,
   "id": "8a273807",
   "metadata": {},
   "outputs": [],
   "source": [
    "import pandas as pd"
   ]
  },
  {
   "cell_type": "code",
   "execution_count": 2,
   "id": "2a0bbe57",
   "metadata": {},
   "outputs": [],
   "source": [
    "# Load your manually edited dataset\n",
    "df = pd.read_csv(\"superstore.csv\")"
   ]
  },
  {
   "cell_type": "code",
   "execution_count": 3,
   "id": "13196763",
   "metadata": {},
   "outputs": [],
   "source": [
    "# Clean the column headers\n",
    "df.columns = (\n",
    "    df.columns\n",
    "    .str.strip()                # Remove leading/trailing whitespace\n",
    "    .str.lower()                # Convert to lowercase\n",
    "    .str.replace(' ', '_')      # Replace spaces with underscores\n",
    "    .str.replace('[^a-z0-9_]', '', regex=True)  # Remove special characters\n",
    ")"
   ]
  },
  {
   "cell_type": "code",
   "execution_count": 4,
   "id": "47177aa1",
   "metadata": {},
   "outputs": [],
   "source": [
    "\n",
    "\n",
    "# Save the cleaned version\n",
    "df.to_csv(\"superstore_cleaned.csv\", index=False)"
   ]
  },
  {
   "cell_type": "code",
   "execution_count": 5,
   "id": "18b8079e",
   "metadata": {},
   "outputs": [
    {
     "data": {
      "text/plain": [
       "Index(['row_id', 'order_id', 'order_date', 'ship_date', 'ship_mode',\n",
       "       'customer_id', 'customer_name', 'segment', 'country', 'city', 'state',\n",
       "       'postal_code', 'region', 'product_id', 'category', 'subcategory',\n",
       "       'product_name', 'sales'],\n",
       "      dtype='object')"
      ]
     },
     "execution_count": 5,
     "metadata": {},
     "output_type": "execute_result"
    }
   ],
   "source": [
    "df.columns\n"
   ]
  },
  {
   "cell_type": "code",
   "execution_count": null,
   "id": "03049f36",
   "metadata": {},
   "outputs": [],
   "source": []
  }
 ],
 "metadata": {
  "kernelspec": {
   "display_name": "Python 3",
   "language": "python",
   "name": "python3"
  },
  "language_info": {
   "codemirror_mode": {
    "name": "ipython",
    "version": 3
   },
   "file_extension": ".py",
   "mimetype": "text/x-python",
   "name": "python",
   "nbconvert_exporter": "python",
   "pygments_lexer": "ipython3",
   "version": "3.12.4"
  }
 },
 "nbformat": 4,
 "nbformat_minor": 5
}
